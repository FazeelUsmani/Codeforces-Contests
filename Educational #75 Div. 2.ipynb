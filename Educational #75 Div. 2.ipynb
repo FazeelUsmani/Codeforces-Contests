{
 "cells": [
  {
   "cell_type": "markdown",
   "metadata": {},
   "source": [
    "### A. Broken Keyboard\n",
    "\n",
    "time limit per test1 second\n",
    "memory limit per test256 megabytes\n",
    "inputstandard input\n",
    "outputstandard output\n",
    "Recently Polycarp noticed that some of the buttons of his keyboard are malfunctioning. For simplicity, we assume that Polycarp's keyboard contains 26 buttons (one for each letter of the Latin alphabet). Each button is either working fine or malfunctioning.\n",
    "\n",
    "To check which buttons need replacement, Polycarp pressed some buttons in sequence, and a string s appeared on the screen. When Polycarp presses a button with character c, one of the following events happened:\n",
    "\n",
    "if the button was working correctly, a character c appeared at the end of the string Polycarp was typing;\n",
    "if the button was malfunctioning, two characters c appeared at the end of the string.\n",
    "For example, suppose the buttons corresponding to characters a and c are working correctly, and the button corresponding to b is malfunctioning. If Polycarp presses the buttons in the order a, b, a, c, a, b, a, then the string he is typing changes as follows: a → abb → abba → abbac → abbaca → abbacabb → abbacabba.\n",
    "\n",
    "You are given a string s which appeared on the screen after Polycarp pressed some buttons. Help Polycarp to determine which buttons are working correctly for sure (that is, this string could not appear on the screen if any of these buttons was malfunctioning).\n",
    "\n",
    "You may assume that the buttons don't start malfunctioning when Polycarp types the string: each button either works correctly throughout the whole process, or malfunctions throughout the whole process.\n",
    "\n",
    "Input\n",
    "The first line contains one integer t (1≤t≤100) — the number of test cases in the input.\n",
    "\n",
    "Then the test cases follow. Each test case is represented by one line containing a string s consisting of no less than 1 and no more than 500 lowercase Latin letters.\n",
    "\n",
    "Output\n",
    "For each test case, print one line containing a string res. The string res should contain all characters which correspond to buttons that work correctly in alphabetical order, without any separators or repetitions. If all buttons may malfunction, res should be empty.\n",
    "\n",
    "Example\n",
    "inputCopy\n",
    "4\n",
    "a\n",
    "zzaaz\n",
    "ccff\n",
    "cbddbb\n",
    "outputCopy\n",
    "a\n",
    "z\n",
    "\n",
    "bc\n"
   ]
  },
  {
   "cell_type": "code",
   "execution_count": 1,
   "metadata": {},
   "outputs": [
    {
     "name": "stdout",
     "output_type": "stream",
     "text": [
      "4\n",
      "a\n",
      "a\n",
      "zzaaz\n",
      "z\n",
      "ccff\n",
      "\n",
      "cbddbb\n",
      "bc\n"
     ]
    }
   ],
   "source": [
    "for i in range(int(input())):\n",
    "  str = [char for char in input()]\n",
    "  n = len(str)\n",
    "\n",
    "  if n == 0:\n",
    "    print()\n",
    "\n",
    "  elif n == 1:\n",
    "    print(str[0])\n",
    "\n",
    "  else:\n",
    "    res = []\n",
    "    while len(str) > 1:          \n",
    "      \n",
    "      if str[0] == str[1]:\n",
    "        str.remove(str[0])\n",
    "        str.remove(str[0])\n",
    "      else:\n",
    "            \n",
    "        res.append(str[0])\n",
    "        str.remove(str[0])\n",
    "      \n",
    "      \n",
    "    if len(str) == 1:\n",
    "      res.append(str[0])   \n",
    "\n",
    "    if len(res) == 0:\n",
    "      print()\n",
    "    else:\n",
    "      res = set(res)\n",
    "      res = list(res)\n",
    "      res.sort()  \n",
    "      for x in res:\n",
    "        print(x, end = \"\")\n",
    "      print()"
   ]
  },
  {
   "cell_type": "code",
   "execution_count": null,
   "metadata": {},
   "outputs": [],
   "source": []
  }
 ],
 "metadata": {
  "kernelspec": {
   "display_name": "Python 3",
   "language": "python",
   "name": "python3"
  },
  "language_info": {
   "codemirror_mode": {
    "name": "ipython",
    "version": 3
   },
   "file_extension": ".py",
   "mimetype": "text/x-python",
   "name": "python",
   "nbconvert_exporter": "python",
   "pygments_lexer": "ipython3",
   "version": "3.7.3"
  }
 },
 "nbformat": 4,
 "nbformat_minor": 2
}
