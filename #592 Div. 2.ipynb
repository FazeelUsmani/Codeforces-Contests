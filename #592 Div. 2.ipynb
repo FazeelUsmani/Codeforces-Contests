{
 "cells": [
  {
   "cell_type": "markdown",
   "metadata": {},
   "source": [
    "## A. Pens and Pencils"
   ]
  },
  {
   "cell_type": "markdown",
   "metadata": {},
   "source": [
    "Tomorrow is a difficult day for Polycarp: he has to attend a lectures and b practical classes at the university! Since Polycarp is a diligent student, he is going to attend all of them.\n",
    "\n",
    "While preparing for the university, Polycarp wonders whether he can take enough writing implements to write all of the lectures and draw everything he has to during all of the practical classes. Polycarp writes lectures using a pen (he can't use a pencil to write lectures!); he can write down c lectures using one pen, and after that it runs out of ink. During practical classes Polycarp draws blueprints with a pencil (he can't use a pen to draw blueprints!); one pencil is enough to draw all blueprints during d practical classes, after which it is unusable.\n",
    "\n",
    "Polycarp's pencilcase can hold no more than k writing implements, so if Polycarp wants to take x pens and y pencils, they will fit in the pencilcase if and only if x+y≤k.\n",
    "\n",
    "Now Polycarp wants to know how many pens and pencils should he take. Help him to determine it, or tell that his pencilcase doesn't have enough room for all the implements he needs tomorrow!\n",
    "\n",
    "Note that you don't have to minimize the number of writing implements (though their total number must not exceed k).\n",
    "\n",
    "Input\n",
    "The first line of the input contains one integer t (1≤t≤100) — the number of test cases in the input. Then the test cases follow.\n",
    "\n",
    "Each test case is described by one line containing five integers a, b, c, d and k, separated by spaces (1≤a,b,c,d,k≤100) — the number of lectures Polycarp has to attend, the number of practical classes Polycarp has to attend, the number of lectures which can be written down using one pen, the number of practical classes for which one pencil is enough, and the number of writing implements that can fit into Polycarp's pencilcase, respectively.\n",
    "\n",
    "In hacks it is allowed to use only one test case in the input, so t=1 should be satisfied.\n",
    "\n",
    "Output\n",
    "For each test case, print the answer as follows:\n",
    "\n",
    "If the pencilcase can't hold enough writing implements to use them during all lectures and practical classes, print one integer −1. Otherwise, print two non-negative integers x and y — the number of pens and pencils Polycarp should put in his pencilcase. If there are multiple answers, print any of them. Note that you don't have to minimize the number of writing implements (though their total number must not exceed k).\n",
    "\n",
    "Example\n",
    "inputCopy\n",
    "3\n",
    "7 5 4 5 8\n",
    "7 5 4 5 2\n",
    "20 53 45 26 4\n",
    "outputCopy\n",
    "7 1\n",
    "-1\n",
    "1 3\n",
    "Note\n",
    "There are many different answers for the first test case; x=7, y=1 is only one of them. For example, x=3, y=1 is also correct.\n",
    "\n",
    "x=1, y=3 is the only correct answer for the third test case.\n",
    "\n"
   ]
  },
  {
   "cell_type": "code",
   "execution_count": null,
   "metadata": {},
   "outputs": [],
   "source": [
    "import math\n",
    "for i in range(int(input())):\n",
    "    a,b,c,d,e = [int(x) for x in input().split()]\n",
    "    res1 = math.ceil(a/c)\n",
    "    res2 = math.ceil(b/d)\n",
    "    res = res1 + res2\n",
    "    if res > e:\n",
    "        print(-1)\n",
    "    else:\n",
    "        print(res1,res2)"
   ]
  },
  {
   "cell_type": "code",
   "execution_count": null,
   "metadata": {},
   "outputs": [],
   "source": [
    "def solve(n,str):\n",
    "    z, o = 0,0\n",
    "    for i in str:\n",
    "        print(i, end = \" \")\n",
    "        if int(i) == 0:\n",
    "            z += 1\n",
    "        else:\n",
    "            o += 1\n",
    "    print()\n",
    "\n",
    "    print(\"zero \", z, \"One \", o, n, str)\n",
    "    if o == n-1 or o == n:\n",
    "        return 2*n\n",
    "    elif z == n:\n",
    "        return n\n",
    "    else: \n",
    "        return 2*o + z\n",
    "\n",
    "\n",
    "for i in range(int(input())):\n",
    "    n = int(input())\n",
    "    str = input()\n",
    "    res = solve(n, str)\n",
    "    print(res)"
   ]
  },
  {
   "cell_type": "code",
   "execution_count": null,
   "metadata": {},
   "outputs": [],
   "source": []
  }
 ],
 "metadata": {
  "kernelspec": {
   "display_name": "Python 3",
   "language": "python",
   "name": "python3"
  },
  "language_info": {
   "codemirror_mode": {
    "name": "ipython",
    "version": 3
   },
   "file_extension": ".py",
   "mimetype": "text/x-python",
   "name": "python",
   "nbconvert_exporter": "python",
   "pygments_lexer": "ipython3",
   "version": "3.7.3"
  }
 },
 "nbformat": 4,
 "nbformat_minor": 2
}
