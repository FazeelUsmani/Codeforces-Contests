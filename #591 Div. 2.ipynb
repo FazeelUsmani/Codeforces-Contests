{
 "cells": [
  {
   "cell_type": "code",
   "execution_count": 1,
   "metadata": {},
   "outputs": [
    {
     "name": "stdout",
     "output_type": "stream",
     "text": [
      "4\n",
      "2\n",
      "2\n",
      "5\n",
      "1\n",
      "8\n",
      "0\n",
      "11\n",
      "1\n"
     ]
    }
   ],
   "source": [
    "q = int(input())\n",
    "for j in range(q):\n",
    "    x = int(input())\n",
    "    if x <3:\n",
    "        if x == 1:\n",
    "            print(3)\n",
    "        elif x == 2:\n",
    "            print(2)\n",
    "    \n",
    "    elif x&1:\n",
    "        print(1)\n",
    "        \n",
    "    else:\n",
    "        print(0)\n",
    "        \n",
    "        "
   ]
  },
  {
   "cell_type": "code",
   "execution_count": null,
   "metadata": {},
   "outputs": [],
   "source": [
    "def same(s, t):\n",
    "    l = len(s)\n",
    "    i = 0\n",
    "    while i < l-1:\n",
    "        if i >= l:\n",
    "            return True\n",
    "        if s[i] == t[i]:\n",
    "            i += 1\n",
    "        elif i + 1 < l:\n",
    "            if (s[i+1] == t[i] and s[i+1] == t[i+1]):\n",
    "                i += 2\n",
    "                flag = False\n",
    "        else:\n",
    "            flag = False\n",
    "    return flag\n",
    "\n",
    "q = int(input())\n",
    "for i in range(q):\n",
    "    s = input()\n",
    "    t = input()\n",
    "    if same(s,t):\n",
    "        print(\"YES\")\n",
    "    else:\n",
    "        print(\"NO\")"
   ]
  },
  {
   "cell_type": "code",
   "execution_count": null,
   "metadata": {},
   "outputs": [],
   "source": []
  }
 ],
 "metadata": {
  "kernelspec": {
   "display_name": "Python 3",
   "language": "python",
   "name": "python3"
  },
  "language_info": {
   "codemirror_mode": {
    "name": "ipython",
    "version": 3
   },
   "file_extension": ".py",
   "mimetype": "text/x-python",
   "name": "python",
   "nbconvert_exporter": "python",
   "pygments_lexer": "ipython3",
   "version": "3.7.3"
  }
 },
 "nbformat": 4,
 "nbformat_minor": 2
}
